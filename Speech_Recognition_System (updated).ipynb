{
  "cells": [
    {
      "cell_type": "markdown",
      "source": [
        "1. Installing Libraries"
      ],
      "metadata": {
        "id": "ljU0kU2uGtJH"
      }
    },
    {
      "cell_type": "code",
      "execution_count": 1,
      "metadata": {
        "colab": {
          "base_uri": "https://localhost:8080/"
        },
        "id": "0rzdzUzQ9itu",
        "outputId": "17123d70-99d4-4749-bd2a-4cb2f40c924e"
      },
      "outputs": [
        {
          "output_type": "stream",
          "name": "stdout",
          "text": [
            "Collecting SpeechRecognition\n",
            "  Downloading speechrecognition-3.14.3-py3-none-any.whl.metadata (30 kB)\n",
            "Requirement already satisfied: pydub in /usr/local/lib/python3.12/dist-packages (0.25.1)\n",
            "Requirement already satisfied: typing-extensions in /usr/local/lib/python3.12/dist-packages (from SpeechRecognition) (4.15.0)\n",
            "Downloading speechrecognition-3.14.3-py3-none-any.whl (32.9 MB)\n",
            "\u001b[2K   \u001b[90m━━━━━━━━━━━━━━━━━━━━━━━━━━━━━━━━━━━━━━━━\u001b[0m \u001b[32m32.9/32.9 MB\u001b[0m \u001b[31m15.8 MB/s\u001b[0m eta \u001b[36m0:00:00\u001b[0m\n",
            "\u001b[?25hInstalling collected packages: SpeechRecognition\n",
            "Successfully installed SpeechRecognition-3.14.3\n",
            "Reading package lists... Done\n",
            "Building dependency tree... Done\n",
            "Reading state information... Done\n",
            "ffmpeg is already the newest version (7:4.4.2-0ubuntu0.22.04.1).\n",
            "0 upgraded, 0 newly installed, 0 to remove and 35 not upgraded.\n",
            "Collecting sounddevice\n",
            "  Downloading sounddevice-0.5.2-py3-none-any.whl.metadata (1.6 kB)\n",
            "Requirement already satisfied: scipy in /usr/local/lib/python3.12/dist-packages (1.16.1)\n",
            "Requirement already satisfied: CFFI>=1.0 in /usr/local/lib/python3.12/dist-packages (from sounddevice) (2.0.0)\n",
            "Requirement already satisfied: numpy<2.6,>=1.25.2 in /usr/local/lib/python3.12/dist-packages (from scipy) (2.0.2)\n",
            "Requirement already satisfied: pycparser in /usr/local/lib/python3.12/dist-packages (from CFFI>=1.0->sounddevice) (2.23)\n",
            "Downloading sounddevice-0.5.2-py3-none-any.whl (32 kB)\n",
            "Installing collected packages: sounddevice\n",
            "Successfully installed sounddevice-0.5.2\n"
          ]
        }
      ],
      "source": [
        "!pip install SpeechRecognition pydub\n",
        "!apt-get install ffmpeg -y\n",
        "!pip install sounddevice scipy"
      ]
    },
    {
      "cell_type": "markdown",
      "source": [
        "2.Upload an audio file"
      ],
      "metadata": {
        "id": "6CDVQ9qsGzjb"
      }
    },
    {
      "cell_type": "code",
      "execution_count": 2,
      "metadata": {
        "colab": {
          "base_uri": "https://localhost:8080/",
          "height": 92
        },
        "id": "K7bkKxpPG34R",
        "outputId": "630276b0-5ba1-4a6e-bfb9-1ecf2b3e3655"
      },
      "outputs": [
        {
          "output_type": "display_data",
          "data": {
            "text/plain": [
              "<IPython.core.display.HTML object>"
            ],
            "text/html": [
              "\n",
              "     <input type=\"file\" id=\"files-4b306f40-4483-469d-9229-6370ab9e2691\" name=\"files[]\" multiple disabled\n",
              "        style=\"border:none\" />\n",
              "     <output id=\"result-4b306f40-4483-469d-9229-6370ab9e2691\">\n",
              "      Upload widget is only available when the cell has been executed in the\n",
              "      current browser session. Please rerun this cell to enable.\n",
              "      </output>\n",
              "      <script>// Copyright 2017 Google LLC\n",
              "//\n",
              "// Licensed under the Apache License, Version 2.0 (the \"License\");\n",
              "// you may not use this file except in compliance with the License.\n",
              "// You may obtain a copy of the License at\n",
              "//\n",
              "//      http://www.apache.org/licenses/LICENSE-2.0\n",
              "//\n",
              "// Unless required by applicable law or agreed to in writing, software\n",
              "// distributed under the License is distributed on an \"AS IS\" BASIS,\n",
              "// WITHOUT WARRANTIES OR CONDITIONS OF ANY KIND, either express or implied.\n",
              "// See the License for the specific language governing permissions and\n",
              "// limitations under the License.\n",
              "\n",
              "/**\n",
              " * @fileoverview Helpers for google.colab Python module.\n",
              " */\n",
              "(function(scope) {\n",
              "function span(text, styleAttributes = {}) {\n",
              "  const element = document.createElement('span');\n",
              "  element.textContent = text;\n",
              "  for (const key of Object.keys(styleAttributes)) {\n",
              "    element.style[key] = styleAttributes[key];\n",
              "  }\n",
              "  return element;\n",
              "}\n",
              "\n",
              "// Max number of bytes which will be uploaded at a time.\n",
              "const MAX_PAYLOAD_SIZE = 100 * 1024;\n",
              "\n",
              "function _uploadFiles(inputId, outputId) {\n",
              "  const steps = uploadFilesStep(inputId, outputId);\n",
              "  const outputElement = document.getElementById(outputId);\n",
              "  // Cache steps on the outputElement to make it available for the next call\n",
              "  // to uploadFilesContinue from Python.\n",
              "  outputElement.steps = steps;\n",
              "\n",
              "  return _uploadFilesContinue(outputId);\n",
              "}\n",
              "\n",
              "// This is roughly an async generator (not supported in the browser yet),\n",
              "// where there are multiple asynchronous steps and the Python side is going\n",
              "// to poll for completion of each step.\n",
              "// This uses a Promise to block the python side on completion of each step,\n",
              "// then passes the result of the previous step as the input to the next step.\n",
              "function _uploadFilesContinue(outputId) {\n",
              "  const outputElement = document.getElementById(outputId);\n",
              "  const steps = outputElement.steps;\n",
              "\n",
              "  const next = steps.next(outputElement.lastPromiseValue);\n",
              "  return Promise.resolve(next.value.promise).then((value) => {\n",
              "    // Cache the last promise value to make it available to the next\n",
              "    // step of the generator.\n",
              "    outputElement.lastPromiseValue = value;\n",
              "    return next.value.response;\n",
              "  });\n",
              "}\n",
              "\n",
              "/**\n",
              " * Generator function which is called between each async step of the upload\n",
              " * process.\n",
              " * @param {string} inputId Element ID of the input file picker element.\n",
              " * @param {string} outputId Element ID of the output display.\n",
              " * @return {!Iterable<!Object>} Iterable of next steps.\n",
              " */\n",
              "function* uploadFilesStep(inputId, outputId) {\n",
              "  const inputElement = document.getElementById(inputId);\n",
              "  inputElement.disabled = false;\n",
              "\n",
              "  const outputElement = document.getElementById(outputId);\n",
              "  outputElement.innerHTML = '';\n",
              "\n",
              "  const pickedPromise = new Promise((resolve) => {\n",
              "    inputElement.addEventListener('change', (e) => {\n",
              "      resolve(e.target.files);\n",
              "    });\n",
              "  });\n",
              "\n",
              "  const cancel = document.createElement('button');\n",
              "  inputElement.parentElement.appendChild(cancel);\n",
              "  cancel.textContent = 'Cancel upload';\n",
              "  const cancelPromise = new Promise((resolve) => {\n",
              "    cancel.onclick = () => {\n",
              "      resolve(null);\n",
              "    };\n",
              "  });\n",
              "\n",
              "  // Wait for the user to pick the files.\n",
              "  const files = yield {\n",
              "    promise: Promise.race([pickedPromise, cancelPromise]),\n",
              "    response: {\n",
              "      action: 'starting',\n",
              "    }\n",
              "  };\n",
              "\n",
              "  cancel.remove();\n",
              "\n",
              "  // Disable the input element since further picks are not allowed.\n",
              "  inputElement.disabled = true;\n",
              "\n",
              "  if (!files) {\n",
              "    return {\n",
              "      response: {\n",
              "        action: 'complete',\n",
              "      }\n",
              "    };\n",
              "  }\n",
              "\n",
              "  for (const file of files) {\n",
              "    const li = document.createElement('li');\n",
              "    li.append(span(file.name, {fontWeight: 'bold'}));\n",
              "    li.append(span(\n",
              "        `(${file.type || 'n/a'}) - ${file.size} bytes, ` +\n",
              "        `last modified: ${\n",
              "            file.lastModifiedDate ? file.lastModifiedDate.toLocaleDateString() :\n",
              "                                    'n/a'} - `));\n",
              "    const percent = span('0% done');\n",
              "    li.appendChild(percent);\n",
              "\n",
              "    outputElement.appendChild(li);\n",
              "\n",
              "    const fileDataPromise = new Promise((resolve) => {\n",
              "      const reader = new FileReader();\n",
              "      reader.onload = (e) => {\n",
              "        resolve(e.target.result);\n",
              "      };\n",
              "      reader.readAsArrayBuffer(file);\n",
              "    });\n",
              "    // Wait for the data to be ready.\n",
              "    let fileData = yield {\n",
              "      promise: fileDataPromise,\n",
              "      response: {\n",
              "        action: 'continue',\n",
              "      }\n",
              "    };\n",
              "\n",
              "    // Use a chunked sending to avoid message size limits. See b/62115660.\n",
              "    let position = 0;\n",
              "    do {\n",
              "      const length = Math.min(fileData.byteLength - position, MAX_PAYLOAD_SIZE);\n",
              "      const chunk = new Uint8Array(fileData, position, length);\n",
              "      position += length;\n",
              "\n",
              "      const base64 = btoa(String.fromCharCode.apply(null, chunk));\n",
              "      yield {\n",
              "        response: {\n",
              "          action: 'append',\n",
              "          file: file.name,\n",
              "          data: base64,\n",
              "        },\n",
              "      };\n",
              "\n",
              "      let percentDone = fileData.byteLength === 0 ?\n",
              "          100 :\n",
              "          Math.round((position / fileData.byteLength) * 100);\n",
              "      percent.textContent = `${percentDone}% done`;\n",
              "\n",
              "    } while (position < fileData.byteLength);\n",
              "  }\n",
              "\n",
              "  // All done.\n",
              "  yield {\n",
              "    response: {\n",
              "      action: 'complete',\n",
              "    }\n",
              "  };\n",
              "}\n",
              "\n",
              "scope.google = scope.google || {};\n",
              "scope.google.colab = scope.google.colab || {};\n",
              "scope.google.colab._files = {\n",
              "  _uploadFiles,\n",
              "  _uploadFilesContinue,\n",
              "};\n",
              "})(self);\n",
              "</script> "
            ]
          },
          "metadata": {}
        },
        {
          "output_type": "stream",
          "name": "stdout",
          "text": [
            "Saving harvard.wav to harvard.wav\n",
            "Uploaded file: harvard.wav\n"
          ]
        }
      ],
      "source": [
        "from google.colab import files\n",
        "\n",
        "uploaded = files.upload()\n",
        "audio_file = list(uploaded.keys())[0]\n",
        "print(f\"Uploaded file: {audio_file}\")\n"
      ]
    },
    {
      "cell_type": "markdown",
      "source": [
        "3. Convert MP3 to WAV"
      ],
      "metadata": {
        "id": "cT6BeSx1HFzF"
      }
    },
    {
      "cell_type": "code",
      "execution_count": 3,
      "metadata": {
        "id": "qXWM8rs0IUvd",
        "colab": {
          "base_uri": "https://localhost:8080/"
        },
        "outputId": "2051dcf0-1101-4435-a312-614dfca3a8b3"
      },
      "outputs": [
        {
          "output_type": "stream",
          "name": "stderr",
          "text": [
            "/usr/local/lib/python3.12/dist-packages/pydub/utils.py:300: SyntaxWarning: invalid escape sequence '\\('\n",
            "  m = re.match('([su]([0-9]{1,2})p?) \\(([0-9]{1,2}) bit\\)$', token)\n",
            "/usr/local/lib/python3.12/dist-packages/pydub/utils.py:301: SyntaxWarning: invalid escape sequence '\\('\n",
            "  m2 = re.match('([su]([0-9]{1,2})p?)( \\(default\\))?$', token)\n",
            "/usr/local/lib/python3.12/dist-packages/pydub/utils.py:310: SyntaxWarning: invalid escape sequence '\\('\n",
            "  elif re.match('(flt)p?( \\(default\\))?$', token):\n",
            "/usr/local/lib/python3.12/dist-packages/pydub/utils.py:314: SyntaxWarning: invalid escape sequence '\\('\n",
            "  elif re.match('(dbl)p?( \\(default\\))?$', token):\n"
          ]
        }
      ],
      "source": [
        "from pydub import AudioSegment\n",
        "\n",
        "if audio_file.endswith('.mp3'):\n",
        "    sound = AudioSegment.from_mp3(audio_file)\n",
        "    audio_file = \"converted.wav\"\n",
        "    sound.export(audio_file, format=\"wav\")\n",
        "    print(\"Converted MP3 to WAV for recognition\")\n"
      ]
    },
    {
      "cell_type": "markdown",
      "source": [
        "4. Recognize Speech from Audio File"
      ],
      "metadata": {
        "id": "cOj1HhkQHBaI"
      }
    },
    {
      "cell_type": "code",
      "execution_count": 4,
      "metadata": {
        "colab": {
          "base_uri": "https://localhost:8080/"
        },
        "id": "nlPUsE1cIYtF",
        "outputId": "7eda0769-fe5f-4068-c547-0b0ebcdde1e5"
      },
      "outputs": [
        {
          "output_type": "stream",
          "name": "stdout",
          "text": [
            "Processing audio...\n",
            "Recognized Text:\n",
            "the stale smell of old beer lingers it takes heat to bring out the odor a cold dip restores health and zest a salt pickle taste fine with ham tacos al pastor are my favorite a zestful food is the hot cross bun\n"
          ]
        }
      ],
      "source": [
        "import speech_recognition as sr\n",
        "\n",
        "r = sr.Recognizer()\n",
        "\n",
        "with sr.AudioFile(audio_file) as source:\n",
        "    print(\"Processing audio...\")\n",
        "    audio_data = r.record(source)\n",
        "\n",
        "    try:\n",
        "        text = r.recognize_google(audio_data)\n",
        "        print(\"Recognized Text:\")\n",
        "        print(text)\n",
        "    except sr.UnknownValueError:\n",
        "        print(\"Sorry, could not understand the audio\")\n",
        "    except sr.RequestError as e:\n",
        "        print(f\"Could not request results; {e}\")\n",
        "\n"
      ]
    },
    {
      "cell_type": "markdown",
      "source": [
        "5. Record Audio in Colab"
      ],
      "metadata": {
        "id": "krwJ2mkZHKDz"
      }
    },
    {
      "cell_type": "code",
      "execution_count": 6,
      "metadata": {
        "colab": {
          "base_uri": "https://localhost:8080/",
          "height": 35
        },
        "id": "VWxSp682KYGu",
        "outputId": "36810a7c-72f1-478d-9f3d-7878232e7b87"
      },
      "outputs": [
        {
          "output_type": "display_data",
          "data": {
            "text/plain": [
              "<IPython.core.display.Javascript object>"
            ],
            "application/javascript": [
              "\n",
              "    async function recordAudio() {\n",
              "        const stream = await navigator.mediaDevices.getUserMedia({audio:true});\n",
              "        const mediaRecorder = new MediaRecorder(stream);\n",
              "        let chunks = [];\n",
              "        mediaRecorder.ondataavailable = e => chunks.push(e.data);\n",
              "        mediaRecorder.start();\n",
              "        await new Promise(resolve => setTimeout(resolve, 5*1000));\n",
              "        mediaRecorder.stop();\n",
              "        await new Promise(resolve => mediaRecorder.onstop = resolve);\n",
              "        let blob = new Blob(chunks);\n",
              "        let reader = new FileReader();\n",
              "        reader.readAsDataURL(blob);\n",
              "        reader.onloadend = () => {\n",
              "            const base64data = reader.result.split(',')[1];\n",
              "            google.colab.kernel.invokeFunction('notebook.save_audio', [base64data, 'recorded.wav'], {});\n",
              "        }\n",
              "    }\n",
              "    recordAudio();\n",
              "    "
            ]
          },
          "metadata": {}
        },
        {
          "output_type": "stream",
          "name": "stdout",
          "text": [
            "Saved audio to recorded.wav\n"
          ]
        }
      ],
      "source": [
        "from IPython.display import Javascript, display\n",
        "from base64 import b64decode\n",
        "import io\n",
        "import wave\n",
        "\n",
        "def record_audio(filename=\"recorded.wav\", duration=5):\n",
        "    display(Javascript(\"\"\"\n",
        "    async function recordAudio() {\n",
        "        const stream = await navigator.mediaDevices.getUserMedia({audio:true});\n",
        "        const mediaRecorder = new MediaRecorder(stream);\n",
        "        let chunks = [];\n",
        "        mediaRecorder.ondataavailable = e => chunks.push(e.data);\n",
        "        mediaRecorder.start();\n",
        "        await new Promise(resolve => setTimeout(resolve, %d*1000));\n",
        "        mediaRecorder.stop();\n",
        "        await new Promise(resolve => mediaRecorder.onstop = resolve);\n",
        "        let blob = new Blob(chunks);\n",
        "        let reader = new FileReader();\n",
        "        reader.readAsDataURL(blob);\n",
        "        reader.onloadend = () => {\n",
        "            const base64data = reader.result.split(',')[1];\n",
        "            google.colab.kernel.invokeFunction('notebook.save_audio', [base64data, '%s'], {});\n",
        "        }\n",
        "    }\n",
        "    recordAudio();\n",
        "    \"\"\" % (duration, filename)))\n",
        "\n",
        "from google.colab import output\n",
        "\n",
        "def save_audio(base64data, filename):\n",
        "    audio_bytes = b64decode(base64data)\n",
        "    with open(filename, \"wb\") as f:\n",
        "        f.write(audio_bytes)\n",
        "    print(f\"Saved audio to {filename}\")\n",
        "\n",
        "output.register_callback('notebook.save_audio', save_audio)\n",
        "\n",
        "# Record 5 seconds of audio\n",
        "record_audio(\"recorded.wav\", duration=5)\n"
      ]
    },
    {
      "cell_type": "markdown",
      "source": [
        "6. Fix the Recorded Audio"
      ],
      "metadata": {
        "id": "o5tnKp4LH0eD"
      }
    },
    {
      "cell_type": "code",
      "execution_count": 7,
      "metadata": {
        "colab": {
          "base_uri": "https://localhost:8080/"
        },
        "id": "DV-iLmPoMRX8",
        "outputId": "80d0ed1e-40e2-453b-fe93-dd2ccec94a1d"
      },
      "outputs": [
        {
          "output_type": "stream",
          "name": "stdout",
          "text": [
            "Converted to proper WAV format: recorded_fixed.wav\n"
          ]
        }
      ],
      "source": [
        "from pydub import AudioSegment\n",
        "\n",
        "try:\n",
        "    sound = AudioSegment.from_file(\"recorded.wav\")\n",
        "    sound.export(\"recorded_fixed.wav\", format=\"wav\")\n",
        "    print(\"Converted to proper WAV format: recorded_fixed.wav\")\n",
        "except Exception as e:\n",
        "    print(\"Error converting audio:\", e)\n"
      ]
    },
    {
      "cell_type": "markdown",
      "source": [
        "7. Recognize Speech from Recorded Audio"
      ],
      "metadata": {
        "id": "6afdsOTDHR_1"
      }
    },
    {
      "cell_type": "code",
      "execution_count": 8,
      "metadata": {
        "colab": {
          "base_uri": "https://localhost:8080/"
        },
        "id": "h0xvJtcsK-9K",
        "outputId": "6e00a043-f52e-438f-a5bd-fdc21c942441"
      },
      "outputs": [
        {
          "output_type": "stream",
          "name": "stdout",
          "text": [
            "Processing audio...\n",
            "Recognized Text:\n",
            "hello hello\n"
          ]
        }
      ],
      "source": [
        "import speech_recognition as sr\n",
        "\n",
        "r = sr.Recognizer()\n",
        "audio_file = \"recorded_fixed.wav\"\n",
        "\n",
        "with sr.AudioFile(audio_file) as source:\n",
        "    print(\"Processing audio...\")\n",
        "    audio_data = r.record(source)\n",
        "    try:\n",
        "        text = r.recognize_google(audio_data)\n",
        "        print(\"Recognized Text:\")\n",
        "        print(text)\n",
        "    except sr.UnknownValueError:\n",
        "        print(\"Sorry, could not understand the audio\")\n",
        "    except sr.RequestError as e:\n",
        "        print(f\"API Error: {e}\")\n"
      ]
    },
    {
      "cell_type": "markdown",
      "source": [
        "8. Launch the App"
      ],
      "metadata": {
        "id": "YXvr_b4nHVb3"
      }
    },
    {
      "cell_type": "code",
      "execution_count": null,
      "metadata": {
        "colab": {
          "background_save": true,
          "base_uri": "https://localhost:8080/",
          "height": 648
        },
        "id": "Dxq-23ZoQB3t",
        "outputId": "3761ac54-8a85-437e-e337-aaaca9ca98eb"
      },
      "outputs": [
        {
          "output_type": "stream",
          "name": "stdout",
          "text": [
            "It looks like you are running Gradio on a hosted Jupyter notebook, which requires `share=True`. Automatically setting `share=True` (you can turn this off by setting `share=False` in `launch()` explicitly).\n",
            "\n",
            "Colab notebook detected. This cell will run indefinitely so that you can see errors and logs. To turn off, set debug=False in launch().\n",
            "* Running on public URL: https://b59a336aa243221f10.gradio.live\n",
            "\n",
            "This share link expires in 1 week. For free permanent hosting and GPU upgrades, run `gradio deploy` from the terminal in the working directory to deploy to Hugging Face Spaces (https://huggingface.co/spaces)\n"
          ]
        },
        {
          "output_type": "display_data",
          "data": {
            "text/plain": [
              "<IPython.core.display.HTML object>"
            ],
            "text/html": [
              "<div><iframe src=\"https://b59a336aa243221f10.gradio.live\" width=\"100%\" height=\"500\" allow=\"autoplay; camera; microphone; clipboard-read; clipboard-write;\" frameborder=\"0\" allowfullscreen></iframe></div>"
            ]
          },
          "metadata": {}
        }
      ],
      "source": [
        "import gradio as gr\n",
        "import speech_recognition as sr\n",
        "from pydub import AudioSegment\n",
        "import tempfile\n",
        "import os\n",
        "\n",
        "\n",
        "def transcribe_audio(audio_path):\n",
        "    recognizer = sr.Recognizer()\n",
        "\n",
        "    try:\n",
        "        sound = AudioSegment.from_file(audio_path)\n",
        "        temp_wav = tempfile.NamedTemporaryFile(delete=False, suffix=\".wav\")\n",
        "        sound.export(temp_wav.name, format=\"wav\")\n",
        "        audio_file = temp_wav.name\n",
        "    except Exception as e:\n",
        "        return f\"Audio conversion failed: {e}\"\n",
        "\n",
        "    try:\n",
        "        with sr.AudioFile(audio_file) as source:\n",
        "            audio_data = recognizer.record(source)\n",
        "            text = recognizer.recognize_google(audio_data)\n",
        "            return text\n",
        "    except sr.UnknownValueError:\n",
        "        return \"Sorry, could not understand the audio\"\n",
        "    except sr.RequestError as e:\n",
        "        return f\"API Error: {e}\"\n",
        "    finally:\n",
        "        if os.path.exists(audio_file):\n",
        "            os.remove(audio_file)\n",
        "\n",
        "\n",
        "with gr.Blocks() as demo:\n",
        "    gr.Markdown(\"##                                              Speech Recognition System \")\n",
        "\n",
        "    with gr.Tab(\"🎤 Record & Transcribe\"):\n",
        "        mic_audio = gr.Audio(type=\"filepath\", label=\"Record your voice\")\n",
        "        mic_submit = gr.Button(\"📝 Transcribe Recorded Audio\")\n",
        "        mic_output = gr.Textbox(label=\"Recognized Text\", lines=5)\n",
        "\n",
        "        mic_submit.click(fn=transcribe_audio, inputs=mic_audio, outputs=mic_output)\n",
        "\n",
        "    with gr.Tab(\"📁 Upload Audio File\"):\n",
        "        upload_audio = gr.Audio(type=\"filepath\", label=\"Upload Audio (MP3/WAV)\")\n",
        "        upload_submit = gr.Button(\"📝 Transcribe Uploaded Audio\")\n",
        "        upload_output = gr.Textbox(label=\"Recognized Text\", lines=5)\n",
        "\n",
        "        upload_submit.click(fn=transcribe_audio, inputs=upload_audio, outputs=upload_output)\n",
        "\n",
        "demo.launch(debug=True)"
      ]
    }
  ],
  "metadata": {
    "colab": {
      "provenance": []
    },
    "kernelspec": {
      "display_name": "Python 3",
      "name": "python3"
    },
    "language_info": {
      "name": "python"
    }
  },
  "nbformat": 4,
  "nbformat_minor": 0
}